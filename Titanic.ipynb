{
 "cells": [
  {
   "cell_type": "markdown",
   "metadata": {},
   "source": [
    "# Titanic Learn from a disaster\n",
    "\n",
    "In this project I will use machine learning to create a model that predicts which passengers survived the Titanic shipwreck. \n",
    "\n"
   ]
  },
  {
   "cell_type": "markdown",
   "metadata": {},
   "source": [
    "##  Downloading training and testing data"
   ]
  },
  {
   "cell_type": "code",
   "execution_count": 220,
   "metadata": {},
   "outputs": [],
   "source": [
    "from matplotlib import pyplot as plt\n",
    "import numpy as np\n",
    "import pandas as pd\n",
    "from sklearn.linear_model import LogisticRegression\n",
    "from scipy import stats\n",
    "from sklearn.preprocessing import StandardScaler\n",
    "from sklearn.model_selection import train_test_split"
   ]
  },
  {
   "cell_type": "code",
   "execution_count": 177,
   "metadata": {},
   "outputs": [],
   "source": [
    "data = pd.read_csv(\"train_titanic.csv\", skipinitialspace=True)"
   ]
  },
  {
   "cell_type": "code",
   "execution_count": 178,
   "metadata": {},
   "outputs": [
    {
     "name": "stdout",
     "output_type": "stream",
     "text": [
      "   PassengerId  Survived  Pclass  \\\n",
      "0            1         0       3   \n",
      "1            2         1       1   \n",
      "2            3         1       3   \n",
      "3            4         1       1   \n",
      "4            5         0       3   \n",
      "\n",
      "                                                Name     Sex   Age  SibSp  \\\n",
      "0                            Braund, Mr. Owen Harris    male  22.0      1   \n",
      "1  Cumings, Mrs. John Bradley (Florence Briggs Th...  female  38.0      1   \n",
      "2                             Heikkinen, Miss. Laina  female  26.0      0   \n",
      "3       Futrelle, Mrs. Jacques Heath (Lily May Peel)  female  35.0      1   \n",
      "4                           Allen, Mr. William Henry    male  35.0      0   \n",
      "\n",
      "   Parch            Ticket     Fare Cabin Embarked  \n",
      "0      0         A/5 21171   7.2500   NaN        S  \n",
      "1      0          PC 17599  71.2833   C85        C  \n",
      "2      0  STON/O2. 3101282   7.9250   NaN        S  \n",
      "3      0            113803  53.1000  C123        S  \n",
      "4      0            373450   8.0500   NaN        S  \n"
     ]
    }
   ],
   "source": [
    "print(data.head())"
   ]
  },
  {
   "cell_type": "code",
   "execution_count": null,
   "metadata": {},
   "outputs": [],
   "source": []
  },
  {
   "cell_type": "code",
   "execution_count": 179,
   "metadata": {},
   "outputs": [
    {
     "name": "stdout",
     "output_type": "stream",
     "text": [
      "The number of train samples is 891.\n"
     ]
    }
   ],
   "source": [
    "print(\"The number of train samples is {}.\".format(data.shape[0]))"
   ]
  },
  {
   "cell_type": "code",
   "execution_count": 180,
   "metadata": {},
   "outputs": [
    {
     "name": "stdout",
     "output_type": "stream",
     "text": [
      "The number of test samples is 891.\n"
     ]
    }
   ],
   "source": [
    "print(\"The number of test samples is {}.\".format(data.shape[0]))"
   ]
  },
  {
   "cell_type": "markdown",
   "metadata": {},
   "source": [
    "## Data Preprocessing"
   ]
  },
  {
   "cell_type": "code",
   "execution_count": 181,
   "metadata": {},
   "outputs": [
    {
     "name": "stdout",
     "output_type": "stream",
     "text": [
      "NAN ages are 177.\n",
      "NAN cabins are 687.\n",
      "NAN emberks are 2.\n"
     ]
    }
   ],
   "source": [
    "#see how many nas we have in eavh catecory\n",
    "print(\"NAN ages are {}.\".format(data[\"Age\"].isnull().sum()))\n",
    "print(\"NAN cabins are {}.\".format(data[\"Cabin\"].isnull().sum()))\n",
    "print(\"NAN emberks are {}.\".format(data[\"Embarked\"].isnull().sum()))\n"
   ]
  },
  {
   "cell_type": "code",
   "execution_count": 182,
   "metadata": {},
   "outputs": [],
   "source": [
    "#find the values which will filna\n",
    "age_mean = np.mean(data[\"Age\"])\n",
    "cabin_mode = stats.mode(data[\"Cabin\"])\n",
    "embark_mode = stats.mode(data[\"Embarked\"])\n",
    "cabin_mode = \"G6\"\n",
    "embark_mode = \"S\"\n",
    "#now replace empty values with new\n",
    "data[\"Age\"]= data[\"Age\"].fillna(age_mean)\n",
    "data[\"Cabin\"] = data[\"Cabin\"].fillna(cabin_mode)\n",
    "data[\"Embarked\"] = data[\"Embarked\"].fillna(embark_mode)"
   ]
  },
  {
   "cell_type": "code",
   "execution_count": 183,
   "metadata": {},
   "outputs": [
    {
     "name": "stdout",
     "output_type": "stream",
     "text": [
      "PassengerId    0\n",
      "Survived       0\n",
      "Pclass         0\n",
      "Name           0\n",
      "Sex            0\n",
      "Age            0\n",
      "SibSp          0\n",
      "Parch          0\n",
      "Ticket         0\n",
      "Fare           0\n",
      "Cabin          0\n",
      "Embarked       0\n",
      "dtype: int64\n"
     ]
    }
   ],
   "source": [
    "#checking if there some nans in data\n",
    "print(data.isnull().sum())"
   ]
  },
  {
   "cell_type": "code",
   "execution_count": 215,
   "metadata": {},
   "outputs": [],
   "source": [
    "# as our data is cleaned, we can make binary system for catecories\n",
    "# woman = 1, man = 0\n",
    "data[\"Sex N\"] = data[\"Sex\"].map({'male':0,'female':1})\n",
    "# fisrt class = 1, other class = 0\n",
    "data[\"First Class\"] = data[\"Pclass\"].apply(lambda x: 1 if x ==1 else 0)\n",
    "#second class = 1, else = 0\n",
    "data[\"Second Class\"] = data[\"Pclass\"].apply(lambda x: 1 if x==2 else 0)\n"
   ]
  },
  {
   "cell_type": "markdown",
   "metadata": {},
   "source": [
    "## Making Prediction with Logistic Regression"
   ]
  },
  {
   "cell_type": "code",
   "execution_count": 216,
   "metadata": {},
   "outputs": [],
   "source": [
    "features = [\"Sex N\", \"Age\", \"First Class\", \"Second Class\"]\n",
    "X = data[features]\n",
    "y = data[\"Survived\"]\n"
   ]
  },
  {
   "cell_type": "code",
   "execution_count": 217,
   "metadata": {},
   "outputs": [],
   "source": [
    "X_train, X_test, y_train, y_test = train_test_split(X,y, train_size = 0.8, test_size = 0.2)\n"
   ]
  },
  {
   "cell_type": "code",
   "execution_count": 223,
   "metadata": {},
   "outputs": [],
   "source": [
    "#scaling data\n",
    "scaler = StandardScaler()\n",
    "X_train = scaler.fit_transform(X_train)\n",
    "X_test = scaler.transform(X_test)\n"
   ]
  },
  {
   "cell_type": "code",
   "execution_count": 224,
   "metadata": {},
   "outputs": [
    {
     "data": {
      "text/plain": [
       "LogisticRegression()"
      ]
     },
     "execution_count": 224,
     "metadata": {},
     "output_type": "execute_result"
    }
   ],
   "source": [
    "model = LogisticRegression()\n",
    "model.fit(X_train, y_train)"
   ]
  },
  {
   "cell_type": "code",
   "execution_count": 231,
   "metadata": {},
   "outputs": [
    {
     "name": "stdout",
     "output_type": "stream",
     "text": [
      "The score to the train data is 0.7935393258426966.\n",
      "The score to the test data is 0.7430167597765364.\n",
      "The feature coefficiates are [('Sex', 1.2231230679081482), ('Age', -0.41603108974382375), ('FirstClass', 1.0467274742168549), ('SecondClass', 0.47353972786698123)]\n"
     ]
    }
   ],
   "source": [
    "# test accurance\n",
    "print(\"The score to the train data is {}.\".format(model.score(X_train, y_train)))\n",
    "print(\"The score to the test data is {}.\".format(model.score(X_test, y_test)))\n",
    "print(\"The feature coefficiates are {}\".format(list(zip(['Sex','Age','FirstClass','SecondClass'],model.coef_[0]))))\n"
   ]
  },
  {
   "cell_type": "code",
   "execution_count": 261,
   "metadata": {},
   "outputs": [
    {
     "name": "stdout",
     "output_type": "stream",
     "text": [
      "[0 0]\n"
     ]
    }
   ],
   "source": [
    "#predict the survival of two the most famous Titanic Passengers\n",
    "Jack = np.array([0.0,20.0,0.0,0.0])\n",
    "Rose = np.array([1.0,17.0,1.0,0.0])\n",
    "Jack_Rose = np.array([0.0,20.0,0.0,0.0,1.0,17.0,1.0,0.0])\n",
    "Jack_Rose = Jack_Rose.reshape(-1,4)\n",
    "Jack_Rose = scaler.transform(Jack_Rose)\n",
    "Jack_Rose_prop = model.predict(Jack_Rose)\n",
    "print(Jack_Rose_prop)\n",
    "Jack_Rose_propa = model.predict_proba(Jack_Rose)\n"
   ]
  },
  {
   "cell_type": "markdown",
   "metadata": {},
   "source": [
    "### The test has predicted the death of Jack ans Rose (oooops, spoiler!)"
   ]
  }
 ],
 "metadata": {
  "kernelspec": {
   "display_name": "Python 3",
   "language": "python",
   "name": "python3"
  },
  "language_info": {
   "codemirror_mode": {
    "name": "ipython",
    "version": 3
   },
   "file_extension": ".py",
   "mimetype": "text/x-python",
   "name": "python",
   "nbconvert_exporter": "python",
   "pygments_lexer": "ipython3",
   "version": "3.8.3"
  }
 },
 "nbformat": 4,
 "nbformat_minor": 4
}
